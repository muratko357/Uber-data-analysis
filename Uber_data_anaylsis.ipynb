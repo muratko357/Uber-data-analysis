{
  "nbformat": 4,
  "nbformat_minor": 0,
  "metadata": {
    "colab": {
      "name": "Uber data anaylsis.ipynb",
      "provenance": [],
      "collapsed_sections": []
    },
    "kernelspec": {
      "display_name": "Python 3",
      "language": "python",
      "name": "python3"
    },
    "language_info": {
      "codemirror_mode": {
        "name": "ipython",
        "version": 3
      },
      "file_extension": ".py",
      "mimetype": "text/x-python",
      "name": "python",
      "nbconvert_exporter": "python",
      "pygments_lexer": "ipython3",
      "version": "3.7.3"
    }
  },
  "cells": [
    {
      "cell_type": "markdown",
      "metadata": {
        "id": "dyZUBb5feSUg"
      },
      "source": [
        "# Uber Data Analysis\r\n",
        "The Data covers the number of Uber pickup in April 2014 in the New York city."
      ]
    },
    {
      "cell_type": "code",
      "metadata": {
        "colab": {
          "base_uri": "https://localhost:8080/"
        },
        "id": "WFswgeXGaC6N",
        "outputId": "8beae29c-05b9-4ad4-ff22-e908c863965e"
      },
      "source": [
        "from google.colab import drive\n",
        "drive.mount('/content/drive')"
      ],
      "execution_count": 33,
      "outputs": [
        {
          "output_type": "stream",
          "text": [
            "Drive already mounted at /content/drive; to attempt to forcibly remount, call drive.mount(\"/content/drive\", force_remount=True).\n"
          ],
          "name": "stdout"
        }
      ]
    },
    {
      "cell_type": "code",
      "metadata": {
        "id": "YegZO6zVebZd"
      },
      "source": [
        "#Import Libraries\n",
        "import pandas as pd\n",
        "import numpy as np\n",
        "import matplotlib.pyplot as plt\n",
        "import seaborn as sns\n",
        "%matplotlib inline"
      ],
      "execution_count": 34,
      "outputs": []
    },
    {
      "cell_type": "code",
      "metadata": {
        "id": "aWVQs1c9iikQ"
      },
      "source": [
        "# Load Data and check the head of your data\n",
        "uber_data = pd.read_csv('/content/drive/MyDrive/Uber data analysis/uber-data.csv')\n"
      ],
      "execution_count": 35,
      "outputs": []
    },
    {
      "cell_type": "code",
      "metadata": {
        "colab": {
          "base_uri": "https://localhost:8080/",
          "height": 284
        },
        "id": "WRzrX_v_X9E5",
        "outputId": "ab8e55c1-aebb-4fb7-dc17-221a2398cc7d"
      },
      "source": [
        "uber_data.describe()"
      ],
      "execution_count": 36,
      "outputs": [
        {
          "output_type": "execute_result",
          "data": {
            "text/html": [
              "<div>\n",
              "<style scoped>\n",
              "    .dataframe tbody tr th:only-of-type {\n",
              "        vertical-align: middle;\n",
              "    }\n",
              "\n",
              "    .dataframe tbody tr th {\n",
              "        vertical-align: top;\n",
              "    }\n",
              "\n",
              "    .dataframe thead th {\n",
              "        text-align: right;\n",
              "    }\n",
              "</style>\n",
              "<table border=\"1\" class=\"dataframe\">\n",
              "  <thead>\n",
              "    <tr style=\"text-align: right;\">\n",
              "      <th></th>\n",
              "      <th>Lat</th>\n",
              "      <th>Lon</th>\n",
              "    </tr>\n",
              "  </thead>\n",
              "  <tbody>\n",
              "    <tr>\n",
              "      <th>count</th>\n",
              "      <td>564516.000000</td>\n",
              "      <td>564516.000000</td>\n",
              "    </tr>\n",
              "    <tr>\n",
              "      <th>mean</th>\n",
              "      <td>40.740005</td>\n",
              "      <td>-73.976817</td>\n",
              "    </tr>\n",
              "    <tr>\n",
              "      <th>std</th>\n",
              "      <td>0.036083</td>\n",
              "      <td>0.050426</td>\n",
              "    </tr>\n",
              "    <tr>\n",
              "      <th>min</th>\n",
              "      <td>40.072900</td>\n",
              "      <td>-74.773300</td>\n",
              "    </tr>\n",
              "    <tr>\n",
              "      <th>25%</th>\n",
              "      <td>40.722500</td>\n",
              "      <td>-73.997700</td>\n",
              "    </tr>\n",
              "    <tr>\n",
              "      <th>50%</th>\n",
              "      <td>40.742500</td>\n",
              "      <td>-73.984800</td>\n",
              "    </tr>\n",
              "    <tr>\n",
              "      <th>75%</th>\n",
              "      <td>40.760700</td>\n",
              "      <td>-73.970000</td>\n",
              "    </tr>\n",
              "    <tr>\n",
              "      <th>max</th>\n",
              "      <td>42.116600</td>\n",
              "      <td>-72.066600</td>\n",
              "    </tr>\n",
              "  </tbody>\n",
              "</table>\n",
              "</div>"
            ],
            "text/plain": [
              "                 Lat            Lon\n",
              "count  564516.000000  564516.000000\n",
              "mean       40.740005     -73.976817\n",
              "std         0.036083       0.050426\n",
              "min        40.072900     -74.773300\n",
              "25%        40.722500     -73.997700\n",
              "50%        40.742500     -73.984800\n",
              "75%        40.760700     -73.970000\n",
              "max        42.116600     -72.066600"
            ]
          },
          "metadata": {
            "tags": []
          },
          "execution_count": 36
        }
      ]
    },
    {
      "cell_type": "code",
      "metadata": {
        "id": "LjM3c02bilEH",
        "colab": {
          "base_uri": "https://localhost:8080/"
        },
        "outputId": "a9137ce1-9aaa-46d8-d044-4756c0b18b2b"
      },
      "source": [
        "#Look for the information about your data\n",
        "uber_data.info()"
      ],
      "execution_count": 37,
      "outputs": [
        {
          "output_type": "stream",
          "text": [
            "<class 'pandas.core.frame.DataFrame'>\n",
            "RangeIndex: 564516 entries, 0 to 564515\n",
            "Data columns (total 4 columns):\n",
            " #   Column     Non-Null Count   Dtype  \n",
            "---  ------     --------------   -----  \n",
            " 0   Date/Time  564516 non-null  object \n",
            " 1   Lat        564516 non-null  float64\n",
            " 2   Lon        564516 non-null  float64\n",
            " 3   Base       564516 non-null  object \n",
            "dtypes: float64(2), object(2)\n",
            "memory usage: 17.2+ MB\n"
          ],
          "name": "stdout"
        }
      ]
    },
    {
      "cell_type": "code",
      "metadata": {
        "id": "H8wUZNI-aebv"
      },
      "source": [
        "# Transform date column to timestamp and the data type to string\r\n",
        "uber_data['Date/Time'] = pd.to_datetime(uber_data['Date/Time'], format=\"%m/%d/%Y %H:%M:%S\")\r\n",
        "### KULLANMIYORSAN SIL uber_data['DayOfWeekNum'] = uber_data['Date/Time'].dt.dayofweek.astype(str)\r\n",
        "uber_data['DayOfWeek'] = uber_data['Date/Time'].dt.day_name()\r\n",
        "uber_data['DayOfMonth'] = uber_data['Date/Time'].dt.day.astype(str)\r\n",
        "uber_data['HourOfDay'] = uber_data['Date/Time'].dt.hour.astype(str)\r\n",
        "# Other codes in case more data included:\r\n",
        "# uber_data['Month'] = uber_data['Date/Time'].dt.month\r\n",
        "# uber_data['Date/Time'] = (uber_data['Date/Time'].dt.month*100 + uber_data['Date/Time'].dt.day - 320)%1300\r\n",
        "# uber_data['season'] = pd.cut(uber_data['Date/Time'], [0, 300, 602, 900, 1300], \r\n",
        "#                       labels=['spring', 'summer', 'autumn', 'winter'])"
      ],
      "execution_count": 38,
      "outputs": []
    },
    {
      "cell_type": "code",
      "metadata": {
        "id": "Ftv0c5hbZDN2",
        "colab": {
          "base_uri": "https://localhost:8080/",
          "height": 195
        },
        "outputId": "c3be41f8-cac6-4b0f-ba0e-70a2bb560e29"
      },
      "source": [
        "uber_data.sample(5)"
      ],
      "execution_count": 39,
      "outputs": [
        {
          "output_type": "execute_result",
          "data": {
            "text/html": [
              "<div>\n",
              "<style scoped>\n",
              "    .dataframe tbody tr th:only-of-type {\n",
              "        vertical-align: middle;\n",
              "    }\n",
              "\n",
              "    .dataframe tbody tr th {\n",
              "        vertical-align: top;\n",
              "    }\n",
              "\n",
              "    .dataframe thead th {\n",
              "        text-align: right;\n",
              "    }\n",
              "</style>\n",
              "<table border=\"1\" class=\"dataframe\">\n",
              "  <thead>\n",
              "    <tr style=\"text-align: right;\">\n",
              "      <th></th>\n",
              "      <th>Date/Time</th>\n",
              "      <th>Lat</th>\n",
              "      <th>Lon</th>\n",
              "      <th>Base</th>\n",
              "      <th>DayOfWeek</th>\n",
              "      <th>DayOfMonth</th>\n",
              "      <th>HourOfDay</th>\n",
              "    </tr>\n",
              "  </thead>\n",
              "  <tbody>\n",
              "    <tr>\n",
              "      <th>397541</th>\n",
              "      <td>2014-04-09 21:11:00</td>\n",
              "      <td>40.7464</td>\n",
              "      <td>-74.0084</td>\n",
              "      <td>B02682</td>\n",
              "      <td>Wednesday</td>\n",
              "      <td>9</td>\n",
              "      <td>21</td>\n",
              "    </tr>\n",
              "    <tr>\n",
              "      <th>187874</th>\n",
              "      <td>2014-04-27 12:43:00</td>\n",
              "      <td>40.6687</td>\n",
              "      <td>-73.9460</td>\n",
              "      <td>B02598</td>\n",
              "      <td>Sunday</td>\n",
              "      <td>27</td>\n",
              "      <td>12</td>\n",
              "    </tr>\n",
              "    <tr>\n",
              "      <th>82010</th>\n",
              "      <td>2014-04-10 09:44:00</td>\n",
              "      <td>40.6445</td>\n",
              "      <td>-73.9825</td>\n",
              "      <td>B02598</td>\n",
              "      <td>Thursday</td>\n",
              "      <td>10</td>\n",
              "      <td>9</td>\n",
              "    </tr>\n",
              "    <tr>\n",
              "      <th>450315</th>\n",
              "      <td>2014-04-17 09:43:00</td>\n",
              "      <td>40.7391</td>\n",
              "      <td>-74.0011</td>\n",
              "      <td>B02682</td>\n",
              "      <td>Thursday</td>\n",
              "      <td>17</td>\n",
              "      <td>9</td>\n",
              "    </tr>\n",
              "    <tr>\n",
              "      <th>457566</th>\n",
              "      <td>2014-04-18 06:46:00</td>\n",
              "      <td>40.6449</td>\n",
              "      <td>-73.7823</td>\n",
              "      <td>B02682</td>\n",
              "      <td>Friday</td>\n",
              "      <td>18</td>\n",
              "      <td>6</td>\n",
              "    </tr>\n",
              "  </tbody>\n",
              "</table>\n",
              "</div>"
            ],
            "text/plain": [
              "                 Date/Time      Lat      Lon  ...  DayOfWeek DayOfMonth HourOfDay\n",
              "397541 2014-04-09 21:11:00  40.7464 -74.0084  ...  Wednesday          9        21\n",
              "187874 2014-04-27 12:43:00  40.6687 -73.9460  ...     Sunday         27        12\n",
              "82010  2014-04-10 09:44:00  40.6445 -73.9825  ...   Thursday         10         9\n",
              "450315 2014-04-17 09:43:00  40.7391 -74.0011  ...   Thursday         17         9\n",
              "457566 2014-04-18 06:46:00  40.6449 -73.7823  ...     Friday         18         6\n",
              "\n",
              "[5 rows x 7 columns]"
            ]
          },
          "metadata": {
            "tags": []
          },
          "execution_count": 39
        }
      ]
    },
    {
      "cell_type": "code",
      "metadata": {
        "colab": {
          "base_uri": "https://localhost:8080/"
        },
        "id": "CmFsNaZuJjSM",
        "outputId": "b6d60230-9e9a-4af2-de4d-2a2c5b870e0d"
      },
      "source": [
        "uber_data.info()"
      ],
      "execution_count": 40,
      "outputs": [
        {
          "output_type": "stream",
          "text": [
            "<class 'pandas.core.frame.DataFrame'>\n",
            "RangeIndex: 564516 entries, 0 to 564515\n",
            "Data columns (total 7 columns):\n",
            " #   Column      Non-Null Count   Dtype         \n",
            "---  ------      --------------   -----         \n",
            " 0   Date/Time   564516 non-null  datetime64[ns]\n",
            " 1   Lat         564516 non-null  float64       \n",
            " 2   Lon         564516 non-null  float64       \n",
            " 3   Base        564516 non-null  object        \n",
            " 4   DayOfWeek   564516 non-null  object        \n",
            " 5   DayOfMonth  564516 non-null  object        \n",
            " 6   HourOfDay   564516 non-null  object        \n",
            "dtypes: datetime64[ns](1), float64(2), object(4)\n",
            "memory usage: 30.1+ MB\n"
          ],
          "name": "stdout"
        }
      ]
    },
    {
      "cell_type": "code",
      "metadata": {
        "colab": {
          "base_uri": "https://localhost:8080/"
        },
        "id": "C3BCWc2TMnnw",
        "outputId": "48196656-4ddb-479d-b570-aaa983baf86c"
      },
      "source": [
        "# Check the data type\r\n",
        "uber_data['HourOfDay'].map(type)"
      ],
      "execution_count": 41,
      "outputs": [
        {
          "output_type": "execute_result",
          "data": {
            "text/plain": [
              "0         <class 'str'>\n",
              "1         <class 'str'>\n",
              "2         <class 'str'>\n",
              "3         <class 'str'>\n",
              "4         <class 'str'>\n",
              "              ...      \n",
              "564511    <class 'str'>\n",
              "564512    <class 'str'>\n",
              "564513    <class 'str'>\n",
              "564514    <class 'str'>\n",
              "564515    <class 'str'>\n",
              "Name: HourOfDay, Length: 564516, dtype: object"
            ]
          },
          "metadata": {
            "tags": []
          },
          "execution_count": 41
        }
      ]
    },
    {
      "cell_type": "markdown",
      "metadata": {
        "id": "Ks-qBP7uyTtX"
      },
      "source": [
        "#Analysis\n",
        "Day of month and week"
      ]
    },
    {
      "cell_type": "code",
      "metadata": {
        "colab": {
          "base_uri": "https://localhost:8080/",
          "height": 410
        },
        "id": "BrYdRAB5oVQx",
        "outputId": "c8d3b5c2-e861-4eef-a4fc-83736b8aaa26"
      },
      "source": [
        "# Figure for day of month\r\n",
        "plt.figure(figsize=(15,5))\r\n",
        "sns.countplot(uber_data['DayOfMonth'])\r\n",
        "plt.xlabel(\"Day of Month\", fontsize=14)\r\n",
        "plt.ylabel(\"Number of Uber pickup\", fontsize=14)\r\n",
        "plt.title(\"Number of Uber pickup each day in April, 2014\", fontsize=16)\r\n",
        "plt.show()"
      ],
      "execution_count": 42,
      "outputs": [
        {
          "output_type": "stream",
          "text": [
            "/usr/local/lib/python3.6/dist-packages/seaborn/_decorators.py:43: FutureWarning: Pass the following variable as a keyword arg: x. From version 0.12, the only valid positional argument will be `data`, and passing other arguments without an explicit keyword will result in an error or misinterpretation.\n",
            "  FutureWarning\n"
          ],
          "name": "stderr"
        },
        {
          "output_type": "display_data",
          "data": {
            "image/png": "[encoded data removed]",
            "text/plain": [
              "<Figure size 1080x360 with 1 Axes>"
            ]
          },
          "metadata": {
            "tags": [],
            "needs_background": "light"
          }
        }
      ]
    },
    {
      "cell_type": "code",
      "metadata": {
        "colab": {
          "base_uri": "https://localhost:8080/"
        },
        "id": "qUnMAb2-BidF",
        "outputId": "c14b7b5d-7acb-4534-dc39-c308916a6ed1"
      },
      "source": [
        "# Average mumbers of Uber pickup each day in a week - divide 4 for the month April\r\n",
        "averagenum_pickup_DayOfWeek = uber_data.groupby(['DayOfWeek'])['Base'].count().sort_values(ascending=False)/4\r\n",
        "averagenum_pickup_DayOfWeek"
      ],
      "execution_count": 43,
      "outputs": [
        {
          "output_type": "execute_result",
          "data": {
            "text/plain": [
              "DayOfWeek\n",
              "Wednesday    27157.75\n",
              "Tuesday      22796.25\n",
              "Friday       22575.75\n",
              "Thursday     21266.75\n",
              "Saturday     19304.50\n",
              "Monday       15215.25\n",
              "Sunday       12812.75\n",
              "Name: Base, dtype: float64"
            ]
          },
          "metadata": {
            "tags": []
          },
          "execution_count": 43
        }
      ]
    },
    {
      "cell_type": "code",
      "metadata": {
        "id": "JphDfQVLyW-8",
        "colab": {
          "base_uri": "https://localhost:8080/",
          "height": 410
        },
        "outputId": "8932d7c2-4867-4194-ed86-87f784644d4c"
      },
      "source": [
        "# Plot number of pickups vs day of the week\n",
        "plt.figure(figsize=(11,5))\n",
        "sns.countplot(uber_data['DayOfWeek'])\n",
        "plt.xlabel(\"Day of Month\", fontsize=14)\n",
        "plt.ylabel(\"Number of Uber pickup\", fontsize=14)\n",
        "plt.title(\"Total number of Uber pickup based on day of week\", fontsize=16)\n",
        "plt.show()"
      ],
      "execution_count": 44,
      "outputs": [
        {
          "output_type": "stream",
          "text": [
            "/usr/local/lib/python3.6/dist-packages/seaborn/_decorators.py:43: FutureWarning: Pass the following variable as a keyword arg: x. From version 0.12, the only valid positional argument will be `data`, and passing other arguments without an explicit keyword will result in an error or misinterpretation.\n",
            "  FutureWarning\n"
          ],
          "name": "stderr"
        },
        {
          "output_type": "display_data",
          "data": {
            "image/png": "[encoded data removed]",
            "text/plain": [
              "<Figure size 792x360 with 1 Axes>"
            ]
          },
          "metadata": {
            "tags": [],
            "needs_background": "light"
          }
        }
      ]
    },
    {
      "cell_type": "markdown",
      "metadata": {
        "id": "_vg04F_aTv9K"
      },
      "source": [
        "## Analyze the hours"
      ]
    },
    {
      "cell_type": "code",
      "metadata": {
        "id": "8xHONVo0TzT8",
        "colab": {
          "base_uri": "https://localhost:8080/",
          "height": 410
        },
        "outputId": "0f59fc41-d280-4556-f27d-c0903f7dbd78"
      },
      "source": [
        "# Plot your hourly data to histogram\n",
        "plt.figure(figsize=(11,5))\n",
        "sns.countplot(uber_data[\"HourOfDay\"])\n",
        "plt.xlabel(\"Hours of day\", fontsize=14)\n",
        "plt.ylabel(\"Number of Uber pickup\", fontsize=14)\n",
        "plt.title(\"Total number of Uber pickup based on hours\", fontsize=16)\n",
        "plt.show()"
      ],
      "execution_count": 45,
      "outputs": [
        {
          "output_type": "stream",
          "text": [
            "/usr/local/lib/python3.6/dist-packages/seaborn/_decorators.py:43: FutureWarning: Pass the following variable as a keyword arg: x. From version 0.12, the only valid positional argument will be `data`, and passing other arguments without an explicit keyword will result in an error or misinterpretation.\n",
            "  FutureWarning\n"
          ],
          "name": "stderr"
        },
        {
          "output_type": "display_data",
          "data": {
            "image/png": "[encoded data removed]",
            "text/plain": [
              "<Figure size 792x360 with 1 Axes>"
            ]
          },
          "metadata": {
            "tags": [],
            "needs_background": "light"
          }
        }
      ]
    },
    {
      "cell_type": "markdown",
      "metadata": {
        "id": "YsgoS-rSX-_j"
      },
      "source": [
        "## Cross Analysis"
      ]
    },
    {
      "cell_type": "code",
      "metadata": {
        "id": "6rEu8LxYPZfk",
        "colab": {
          "base_uri": "https://localhost:8080/"
        },
        "outputId": "f1a7c2dc-9a23-41ae-989b-c11941cc9f55"
      },
      "source": [
        "# Group your rows by two column and unstack it and set as new dataframe. Note unstack function takes second column name and set as columns of dataframe\n",
        "# Hint: remember count_rows function\n",
        "\n",
        "hrs_day_alternative = uber_data.groupby(['HourOfDay'])['DayOfWeek'].count().sort_values(ascending=False)\n",
        "hrs_day_alternative\n"
      ],
      "execution_count": 46,
      "outputs": [
        {
          "output_type": "execute_result",
          "data": {
            "text/plain": [
              "HourOfDay\n",
              "17    45475\n",
              "18    43003\n",
              "16    42003\n",
              "19    38923\n",
              "21    36964\n",
              "20    36244\n",
              "15    35324\n",
              "22    30645\n",
              "14    27190\n",
              "7     24924\n",
              "8     22843\n",
              "13    22603\n",
              "23    20649\n",
              "12    19425\n",
              "11    18774\n",
              "6     18498\n",
              "9     17939\n",
              "10    17865\n",
              "0     11910\n",
              "5      9476\n",
              "1      7769\n",
              "4      6095\n",
              "3      5040\n",
              "2      4935\n",
              "Name: DayOfWeek, dtype: int64"
            ]
          },
          "metadata": {
            "tags": []
          },
          "execution_count": 46
        }
      ]
    },
    {
      "cell_type": "code",
      "metadata": {
        "colab": {
          "base_uri": "https://localhost:8080/",
          "height": 787
        },
        "id": "vt7g8zbxRe9F",
        "outputId": "b0bac515-8d44-4a28-f8f1-9cbb79a8d138"
      },
      "source": [
        "# Crosstabulation of hour and day of week\r\n",
        "hrs_day = pd.crosstab(uber_data.HourOfDay, uber_data.DayOfWeek)\r\n",
        "hrs_day"
      ],
      "execution_count": 47,
      "outputs": [
        {
          "output_type": "execute_result",
          "data": {
            "text/html": [
              "<div>\n",
              "<style scoped>\n",
              "    .dataframe tbody tr th:only-of-type {\n",
              "        vertical-align: middle;\n",
              "    }\n",
              "\n",
              "    .dataframe tbody tr th {\n",
              "        vertical-align: top;\n",
              "    }\n",
              "\n",
              "    .dataframe thead th {\n",
              "        text-align: right;\n",
              "    }\n",
              "</style>\n",
              "<table border=\"1\" class=\"dataframe\">\n",
              "  <thead>\n",
              "    <tr style=\"text-align: right;\">\n",
              "      <th>DayOfWeek</th>\n",
              "      <th>Friday</th>\n",
              "      <th>Monday</th>\n",
              "      <th>Saturday</th>\n",
              "      <th>Sunday</th>\n",
              "      <th>Thursday</th>\n",
              "      <th>Tuesday</th>\n",
              "      <th>Wednesday</th>\n",
              "    </tr>\n",
              "    <tr>\n",
              "      <th>HourOfDay</th>\n",
              "      <th></th>\n",
              "      <th></th>\n",
              "      <th></th>\n",
              "      <th></th>\n",
              "      <th></th>\n",
              "      <th></th>\n",
              "      <th></th>\n",
              "    </tr>\n",
              "  </thead>\n",
              "  <tbody>\n",
              "    <tr>\n",
              "      <th>0</th>\n",
              "      <td>1367</td>\n",
              "      <td>518</td>\n",
              "      <td>3027</td>\n",
              "      <td>4542</td>\n",
              "      <td>792</td>\n",
              "      <td>765</td>\n",
              "      <td>899</td>\n",
              "    </tr>\n",
              "    <tr>\n",
              "      <th>1</th>\n",
              "      <td>760</td>\n",
              "      <td>261</td>\n",
              "      <td>2479</td>\n",
              "      <td>2936</td>\n",
              "      <td>459</td>\n",
              "      <td>367</td>\n",
              "      <td>507</td>\n",
              "    </tr>\n",
              "    <tr>\n",
              "      <th>10</th>\n",
              "      <td>2599</td>\n",
              "      <td>1953</td>\n",
              "      <td>2086</td>\n",
              "      <td>2113</td>\n",
              "      <td>2370</td>\n",
              "      <td>2900</td>\n",
              "      <td>3844</td>\n",
              "    </tr>\n",
              "    <tr>\n",
              "      <th>11</th>\n",
              "      <td>2816</td>\n",
              "      <td>1929</td>\n",
              "      <td>2315</td>\n",
              "      <td>2360</td>\n",
              "      <td>2516</td>\n",
              "      <td>2949</td>\n",
              "      <td>3889</td>\n",
              "    </tr>\n",
              "    <tr>\n",
              "      <th>12</th>\n",
              "      <td>2978</td>\n",
              "      <td>1945</td>\n",
              "      <td>2560</td>\n",
              "      <td>2478</td>\n",
              "      <td>2657</td>\n",
              "      <td>2819</td>\n",
              "      <td>3988</td>\n",
              "    </tr>\n",
              "    <tr>\n",
              "      <th>13</th>\n",
              "      <td>3535</td>\n",
              "      <td>2294</td>\n",
              "      <td>2685</td>\n",
              "      <td>2763</td>\n",
              "      <td>3301</td>\n",
              "      <td>3556</td>\n",
              "      <td>4469</td>\n",
              "    </tr>\n",
              "    <tr>\n",
              "      <th>14</th>\n",
              "      <td>4087</td>\n",
              "      <td>3117</td>\n",
              "      <td>3042</td>\n",
              "      <td>2934</td>\n",
              "      <td>4083</td>\n",
              "      <td>4489</td>\n",
              "      <td>5438</td>\n",
              "    </tr>\n",
              "    <tr>\n",
              "      <th>15</th>\n",
              "      <td>5354</td>\n",
              "      <td>3818</td>\n",
              "      <td>4457</td>\n",
              "      <td>3400</td>\n",
              "      <td>5182</td>\n",
              "      <td>6042</td>\n",
              "      <td>7071</td>\n",
              "    </tr>\n",
              "    <tr>\n",
              "      <th>16</th>\n",
              "      <td>6259</td>\n",
              "      <td>4962</td>\n",
              "      <td>5410</td>\n",
              "      <td>3489</td>\n",
              "      <td>6149</td>\n",
              "      <td>7521</td>\n",
              "      <td>8213</td>\n",
              "    </tr>\n",
              "    <tr>\n",
              "      <th>17</th>\n",
              "      <td>6790</td>\n",
              "      <td>5574</td>\n",
              "      <td>5558</td>\n",
              "      <td>3154</td>\n",
              "      <td>6951</td>\n",
              "      <td>8297</td>\n",
              "      <td>9151</td>\n",
              "    </tr>\n",
              "    <tr>\n",
              "      <th>18</th>\n",
              "      <td>7258</td>\n",
              "      <td>4725</td>\n",
              "      <td>6165</td>\n",
              "      <td>2795</td>\n",
              "      <td>6637</td>\n",
              "      <td>7089</td>\n",
              "      <td>8334</td>\n",
              "    </tr>\n",
              "    <tr>\n",
              "      <th>19</th>\n",
              "      <td>6247</td>\n",
              "      <td>4386</td>\n",
              "      <td>5529</td>\n",
              "      <td>2579</td>\n",
              "      <td>5929</td>\n",
              "      <td>6459</td>\n",
              "      <td>7794</td>\n",
              "    </tr>\n",
              "    <tr>\n",
              "      <th>2</th>\n",
              "      <td>513</td>\n",
              "      <td>238</td>\n",
              "      <td>1577</td>\n",
              "      <td>1590</td>\n",
              "      <td>342</td>\n",
              "      <td>304</td>\n",
              "      <td>371</td>\n",
              "    </tr>\n",
              "    <tr>\n",
              "      <th>20</th>\n",
              "      <td>5165</td>\n",
              "      <td>3573</td>\n",
              "      <td>4792</td>\n",
              "      <td>2276</td>\n",
              "      <td>6345</td>\n",
              "      <td>6310</td>\n",
              "      <td>7783</td>\n",
              "    </tr>\n",
              "    <tr>\n",
              "      <th>21</th>\n",
              "      <td>6265</td>\n",
              "      <td>3079</td>\n",
              "      <td>5811</td>\n",
              "      <td>2310</td>\n",
              "      <td>6585</td>\n",
              "      <td>5993</td>\n",
              "      <td>6921</td>\n",
              "    </tr>\n",
              "    <tr>\n",
              "      <th>22</th>\n",
              "      <td>6708</td>\n",
              "      <td>1976</td>\n",
              "      <td>6493</td>\n",
              "      <td>1639</td>\n",
              "      <td>5370</td>\n",
              "      <td>3614</td>\n",
              "      <td>4845</td>\n",
              "    </tr>\n",
              "    <tr>\n",
              "      <th>23</th>\n",
              "      <td>5393</td>\n",
              "      <td>1091</td>\n",
              "      <td>5719</td>\n",
              "      <td>1018</td>\n",
              "      <td>2909</td>\n",
              "      <td>1948</td>\n",
              "      <td>2571</td>\n",
              "    </tr>\n",
              "    <tr>\n",
              "      <th>3</th>\n",
              "      <td>736</td>\n",
              "      <td>571</td>\n",
              "      <td>1013</td>\n",
              "      <td>1052</td>\n",
              "      <td>567</td>\n",
              "      <td>516</td>\n",
              "      <td>585</td>\n",
              "    </tr>\n",
              "    <tr>\n",
              "      <th>4</th>\n",
              "      <td>932</td>\n",
              "      <td>1021</td>\n",
              "      <td>706</td>\n",
              "      <td>685</td>\n",
              "      <td>861</td>\n",
              "      <td>887</td>\n",
              "      <td>1003</td>\n",
              "    </tr>\n",
              "    <tr>\n",
              "      <th>5</th>\n",
              "      <td>1382</td>\n",
              "      <td>1619</td>\n",
              "      <td>704</td>\n",
              "      <td>593</td>\n",
              "      <td>1454</td>\n",
              "      <td>1734</td>\n",
              "      <td>1990</td>\n",
              "    </tr>\n",
              "    <tr>\n",
              "      <th>6</th>\n",
              "      <td>2836</td>\n",
              "      <td>2974</td>\n",
              "      <td>844</td>\n",
              "      <td>669</td>\n",
              "      <td>3179</td>\n",
              "      <td>3766</td>\n",
              "      <td>4230</td>\n",
              "    </tr>\n",
              "    <tr>\n",
              "      <th>7</th>\n",
              "      <td>3943</td>\n",
              "      <td>3888</td>\n",
              "      <td>1110</td>\n",
              "      <td>873</td>\n",
              "      <td>4159</td>\n",
              "      <td>5304</td>\n",
              "      <td>5647</td>\n",
              "    </tr>\n",
              "    <tr>\n",
              "      <th>8</th>\n",
              "      <td>3648</td>\n",
              "      <td>3138</td>\n",
              "      <td>1372</td>\n",
              "      <td>1233</td>\n",
              "      <td>3616</td>\n",
              "      <td>4594</td>\n",
              "      <td>5242</td>\n",
              "    </tr>\n",
              "    <tr>\n",
              "      <th>9</th>\n",
              "      <td>2732</td>\n",
              "      <td>2211</td>\n",
              "      <td>1764</td>\n",
              "      <td>1770</td>\n",
              "      <td>2654</td>\n",
              "      <td>2962</td>\n",
              "      <td>3846</td>\n",
              "    </tr>\n",
              "  </tbody>\n",
              "</table>\n",
              "</div>"
            ],
            "text/plain": [
              "DayOfWeek  Friday  Monday  Saturday  Sunday  Thursday  Tuesday  Wednesday\n",
              "HourOfDay                                                                \n",
              "0            1367     518      3027    4542       792      765        899\n",
              "1             760     261      2479    2936       459      367        507\n",
              "10           2599    1953      2086    2113      2370     2900       3844\n",
              "11           2816    1929      2315    2360      2516     2949       3889\n",
              "12           2978    1945      2560    2478      2657     2819       3988\n",
              "13           3535    2294      2685    2763      3301     3556       4469\n",
              "14           4087    3117      3042    2934      4083     4489       5438\n",
              "15           5354    3818      4457    3400      5182     6042       7071\n",
              "16           6259    4962      5410    3489      6149     7521       8213\n",
              "17           6790    5574      5558    3154      6951     8297       9151\n",
              "18           7258    4725      6165    2795      6637     7089       8334\n",
              "19           6247    4386      5529    2579      5929     6459       7794\n",
              "2             513     238      1577    1590       342      304        371\n",
              "20           5165    3573      4792    2276      6345     6310       7783\n",
              "21           6265    3079      5811    2310      6585     5993       6921\n",
              "22           6708    1976      6493    1639      5370     3614       4845\n",
              "23           5393    1091      5719    1018      2909     1948       2571\n",
              "3             736     571      1013    1052       567      516        585\n",
              "4             932    1021       706     685       861      887       1003\n",
              "5            1382    1619       704     593      1454     1734       1990\n",
              "6            2836    2974       844     669      3179     3766       4230\n",
              "7            3943    3888      1110     873      4159     5304       5647\n",
              "8            3648    3138      1372    1233      3616     4594       5242\n",
              "9            2732    2211      1764    1770      2654     2962       3846"
            ]
          },
          "metadata": {
            "tags": []
          },
          "execution_count": 47
        }
      ]
    },
    {
      "cell_type": "code",
      "metadata": {
        "colab": {
          "base_uri": "https://localhost:8080/",
          "height": 660
        },
        "id": "GNqpMt_sUbnI",
        "outputId": "dd885f9c-5f43-4da1-af66-e9c6c4b64c47"
      },
      "source": [
        "# Heatmap of the figues in previous table to show the most busy hours of the days\r\n",
        "plt.figure(figsize=(11,11))\r\n",
        "sns.heatmap(hrs_day)\r\n",
        "plt.show()"
      ],
      "execution_count": 48,
      "outputs": [
        {
          "output_type": "display_data",
          "data": {
            "image/png": "[encoded data removed]",
            "text/plain": [
              "<Figure size 792x792 with 2 Axes>"
            ]
          },
          "metadata": {
            "tags": [],
            "needs_background": "light"
          }
        }
      ]
    },
    {
      "cell_type": "markdown",
      "metadata": {
        "id": "SlbTtkOmcI4n"
      },
      "source": [
        "## Analysis by Lon and Lat"
      ]
    },
    {
      "cell_type": "code",
      "metadata": {
        "id": "KM9V8OvQcj_4",
        "colab": {
          "base_uri": "https://localhost:8080/",
          "height": 373
        },
        "outputId": "a009a6aa-e668-4754-93ce-c2068e8b8c3b"
      },
      "source": [
        "# Create a histogram with Lat and Lon, set bins to 100 because the default is 10\r\n",
        "fig, (ax1, ax2) = plt.subplots(1, 2, figsize=(18, 5))\r\n",
        "fig.suptitle(\"Distributions of latitude and longitude in Uber dataset\", fontsize=16)\r\n",
        "ax1.hist(uber_data.Lat, bins= 100)\r\n",
        "ax1.set_xlabel(\"Latitude\", fontsize=13)\r\n",
        "ax1.set_ylabel(\"Frequency\", fontsize=13)\r\n",
        "\r\n",
        "ax2.hist(uber_data.Lon, bins=100)\r\n",
        "ax2.set_xlabel(\"Longitude\", fontsize=13)\r\n",
        "ax2.set_ylabel(\"Frequency\", fontsize=13)"
      ],
      "execution_count": null,
      "outputs": [
        {
          "output_type": "display_data",
          "data": {
            "image/png": "[encoded data removed]",
            "text/plain": [
              "<Figure size 1296x360 with 2 Axes>"
            ]
          },
          "metadata": {
            "tags": [],
            "needs_background": "light"
          }
        }
      ]
    },
    {
      "cell_type": "code",
      "metadata": {
        "id": "dZJ9DD68c2dJ",
        "colab": {
          "base_uri": "https://localhost:8080/",
          "height": 521
        },
        "outputId": "6bb7f314-6979-4a77-cb9c-763c68447230"
      },
      "source": [
        "plt.figure(figsize = (10,8))\r\n",
        "plt.hist2d(uber_data.Lon, uber_data.Lat, bins=20, cmap=\"hot\")\r\n",
        "plt.colorbar().set_label(\"Number of Uber pickup\")\r\n",
        "plt.xlabel(\"Longitude\", fontsize=14)\r\n",
        "plt.ylabel(\"Latitude\", fontsize=14)\r\n",
        "plt.title(\"Number of Uber pickup for each base in April 2014\", fontsize=17)\r\n",
        "plt.show()"
      ],
      "execution_count": null,
      "outputs": [
        {
          "output_type": "display_data",
          "data": {
            "image/png": "[encoded data removed]",
            "text/plain": [
              "<Figure size 720x576 with 2 Axes>"
            ]
          },
          "metadata": {
            "tags": [],
            "needs_background": "light"
          }
        }
      ]
    },
    {
      "cell_type": "markdown",
      "metadata": {
        "id": "lSFmdbTCyNbA"
      },
      "source": [
        "# Conclusion\r\n",
        "The analysis indicates that Uber pickup calls are mostly related to a close range of area in the New York city between 14:00 and 23:00 hours, except Sunday. Wednesday and Tuesday are the busiest days in this time frame with the highest number of pickup between 16:00 and 17:00 hrs."
      ]
    }
  ]
}